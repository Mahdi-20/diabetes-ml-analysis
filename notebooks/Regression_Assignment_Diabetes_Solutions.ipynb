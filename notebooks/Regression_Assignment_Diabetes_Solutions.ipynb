{
  "cells": [
    {
      "cell_type": "markdown",
      "id": "0655d566",
      "metadata": {
        "id": "0655d566"
      },
      "source": [
        "# Ridge and Lasso Regression Assignment (Diabetes Dataset)"
      ]
    },
    {
      "cell_type": "markdown",
      "id": "b5e49ab8",
      "metadata": {
        "id": "b5e49ab8"
      },
      "source": [
        "In this exercise, you will use the **Diabetes dataset** (built into scikit-learn) to explore how **Ridge** and **Lasso regression** handle correlated predictors and the effects of regularization. You will compare them to a standard **Linear Regression** model, visualize their coefficients, and interpret how regularization influences **model complexity** and **performance**.\n",
        "\n",
        "You will also examine the role of **interaction features**, exploring how they can add flexibility to the model and help reduce bias.\n",
        "\n",
        "We will conduct two sets of experiments:\n",
        "1. Using only the original features, and\n",
        "2. Using the original features plus interaction terms.\n",
        "\n",
        "### Learning Objectives\n",
        "By the end of this exercise, you will be able to:\n",
        "\n",
        "- Apply **Ridge** and **Lasso regression** to control model complexity and prevent overfitting.  \n",
        "- Use **cross-validation** to select the optimal level of regularization (`alpha`).  \n",
        "- Interpret how regularization affects **coefficient magnitude**, **sparsity**, and **model interpretability**.  \n",
        "- Evaluate how adding **interaction features** changes model bias, variance, and predictive performance."
      ]
    },
    {
      "cell_type": "markdown",
      "id": "13cb7353",
      "metadata": {
        "id": "13cb7353"
      },
      "source": [
        "### Step 1: Load & Understand the Diabetes Dataset"
      ]
    },
    {
      "cell_type": "markdown",
      "source": [
        "Let’s start by loading the dataset and reviewing the feature space. The code for this section is provided; you will write your own code for the remainder of this assignment."
      ],
      "metadata": {
        "id": "3r8YKHqnvvG8"
      },
      "id": "3r8YKHqnvvG8"
    },
    {
      "cell_type": "code",
      "execution_count": 1,
      "id": "fec9d99e",
      "metadata": {
        "colab": {
          "base_uri": "https://localhost:8080/",
          "height": 221
        },
        "id": "fec9d99e",
        "outputId": "577f7305-c554-4154-acb0-4c10f7e967c2"
      },
      "outputs": [
        {
          "output_type": "stream",
          "name": "stdout",
          "text": [
            "Shape: (442, 10)\n"
          ]
        },
        {
          "output_type": "execute_result",
          "data": {
            "text/plain": [
              "        age       sex       bmi        bp        s1        s2        s3  \\\n",
              "0  0.038076  0.050680  0.061696  0.021872 -0.044223 -0.034821 -0.043401   \n",
              "1 -0.001882 -0.044642 -0.051474 -0.026328 -0.008449 -0.019163  0.074412   \n",
              "2  0.085299  0.050680  0.044451 -0.005670 -0.045599 -0.034194 -0.032356   \n",
              "3 -0.089063 -0.044642 -0.011595 -0.036656  0.012191  0.024991 -0.036038   \n",
              "4  0.005383 -0.044642 -0.036385  0.021872  0.003935  0.015596  0.008142   \n",
              "\n",
              "         s4        s5        s6  \n",
              "0 -0.002592  0.019907 -0.017646  \n",
              "1 -0.039493 -0.068332 -0.092204  \n",
              "2 -0.002592  0.002861 -0.025930  \n",
              "3  0.034309  0.022688 -0.009362  \n",
              "4 -0.002592 -0.031988 -0.046641  "
            ],
            "text/html": [
              "\n",
              "  <div id=\"df-1eb7aa53-9f0c-40da-aa34-bcf0d8954338\" class=\"colab-df-container\">\n",
              "    <div>\n",
              "<style scoped>\n",
              "    .dataframe tbody tr th:only-of-type {\n",
              "        vertical-align: middle;\n",
              "    }\n",
              "\n",
              "    .dataframe tbody tr th {\n",
              "        vertical-align: top;\n",
              "    }\n",
              "\n",
              "    .dataframe thead th {\n",
              "        text-align: right;\n",
              "    }\n",
              "</style>\n",
              "<table border=\"1\" class=\"dataframe\">\n",
              "  <thead>\n",
              "    <tr style=\"text-align: right;\">\n",
              "      <th></th>\n",
              "      <th>age</th>\n",
              "      <th>sex</th>\n",
              "      <th>bmi</th>\n",
              "      <th>bp</th>\n",
              "      <th>s1</th>\n",
              "      <th>s2</th>\n",
              "      <th>s3</th>\n",
              "      <th>s4</th>\n",
              "      <th>s5</th>\n",
              "      <th>s6</th>\n",
              "    </tr>\n",
              "  </thead>\n",
              "  <tbody>\n",
              "    <tr>\n",
              "      <th>0</th>\n",
              "      <td>0.038076</td>\n",
              "      <td>0.050680</td>\n",
              "      <td>0.061696</td>\n",
              "      <td>0.021872</td>\n",
              "      <td>-0.044223</td>\n",
              "      <td>-0.034821</td>\n",
              "      <td>-0.043401</td>\n",
              "      <td>-0.002592</td>\n",
              "      <td>0.019907</td>\n",
              "      <td>-0.017646</td>\n",
              "    </tr>\n",
              "    <tr>\n",
              "      <th>1</th>\n",
              "      <td>-0.001882</td>\n",
              "      <td>-0.044642</td>\n",
              "      <td>-0.051474</td>\n",
              "      <td>-0.026328</td>\n",
              "      <td>-0.008449</td>\n",
              "      <td>-0.019163</td>\n",
              "      <td>0.074412</td>\n",
              "      <td>-0.039493</td>\n",
              "      <td>-0.068332</td>\n",
              "      <td>-0.092204</td>\n",
              "    </tr>\n",
              "    <tr>\n",
              "      <th>2</th>\n",
              "      <td>0.085299</td>\n",
              "      <td>0.050680</td>\n",
              "      <td>0.044451</td>\n",
              "      <td>-0.005670</td>\n",
              "      <td>-0.045599</td>\n",
              "      <td>-0.034194</td>\n",
              "      <td>-0.032356</td>\n",
              "      <td>-0.002592</td>\n",
              "      <td>0.002861</td>\n",
              "      <td>-0.025930</td>\n",
              "    </tr>\n",
              "    <tr>\n",
              "      <th>3</th>\n",
              "      <td>-0.089063</td>\n",
              "      <td>-0.044642</td>\n",
              "      <td>-0.011595</td>\n",
              "      <td>-0.036656</td>\n",
              "      <td>0.012191</td>\n",
              "      <td>0.024991</td>\n",
              "      <td>-0.036038</td>\n",
              "      <td>0.034309</td>\n",
              "      <td>0.022688</td>\n",
              "      <td>-0.009362</td>\n",
              "    </tr>\n",
              "    <tr>\n",
              "      <th>4</th>\n",
              "      <td>0.005383</td>\n",
              "      <td>-0.044642</td>\n",
              "      <td>-0.036385</td>\n",
              "      <td>0.021872</td>\n",
              "      <td>0.003935</td>\n",
              "      <td>0.015596</td>\n",
              "      <td>0.008142</td>\n",
              "      <td>-0.002592</td>\n",
              "      <td>-0.031988</td>\n",
              "      <td>-0.046641</td>\n",
              "    </tr>\n",
              "  </tbody>\n",
              "</table>\n",
              "</div>\n",
              "    <div class=\"colab-df-buttons\">\n",
              "\n",
              "  <div class=\"colab-df-container\">\n",
              "    <button class=\"colab-df-convert\" onclick=\"convertToInteractive('df-1eb7aa53-9f0c-40da-aa34-bcf0d8954338')\"\n",
              "            title=\"Convert this dataframe to an interactive table.\"\n",
              "            style=\"display:none;\">\n",
              "\n",
              "  <svg xmlns=\"http://www.w3.org/2000/svg\" height=\"24px\" viewBox=\"0 -960 960 960\">\n",
              "    <path d=\"M120-120v-720h720v720H120Zm60-500h600v-160H180v160Zm220 220h160v-160H400v160Zm0 220h160v-160H400v160ZM180-400h160v-160H180v160Zm440 0h160v-160H620v160ZM180-180h160v-160H180v160Zm440 0h160v-160H620v160Z\"/>\n",
              "  </svg>\n",
              "    </button>\n",
              "\n",
              "  <style>\n",
              "    .colab-df-container {\n",
              "      display:flex;\n",
              "      gap: 12px;\n",
              "    }\n",
              "\n",
              "    .colab-df-convert {\n",
              "      background-color: #E8F0FE;\n",
              "      border: none;\n",
              "      border-radius: 50%;\n",
              "      cursor: pointer;\n",
              "      display: none;\n",
              "      fill: #1967D2;\n",
              "      height: 32px;\n",
              "      padding: 0 0 0 0;\n",
              "      width: 32px;\n",
              "    }\n",
              "\n",
              "    .colab-df-convert:hover {\n",
              "      background-color: #E2EBFA;\n",
              "      box-shadow: 0px 1px 2px rgba(60, 64, 67, 0.3), 0px 1px 3px 1px rgba(60, 64, 67, 0.15);\n",
              "      fill: #174EA6;\n",
              "    }\n",
              "\n",
              "    .colab-df-buttons div {\n",
              "      margin-bottom: 4px;\n",
              "    }\n",
              "\n",
              "    [theme=dark] .colab-df-convert {\n",
              "      background-color: #3B4455;\n",
              "      fill: #D2E3FC;\n",
              "    }\n",
              "\n",
              "    [theme=dark] .colab-df-convert:hover {\n",
              "      background-color: #434B5C;\n",
              "      box-shadow: 0px 1px 3px 1px rgba(0, 0, 0, 0.15);\n",
              "      filter: drop-shadow(0px 1px 2px rgba(0, 0, 0, 0.3));\n",
              "      fill: #FFFFFF;\n",
              "    }\n",
              "  </style>\n",
              "\n",
              "    <script>\n",
              "      const buttonEl =\n",
              "        document.querySelector('#df-1eb7aa53-9f0c-40da-aa34-bcf0d8954338 button.colab-df-convert');\n",
              "      buttonEl.style.display =\n",
              "        google.colab.kernel.accessAllowed ? 'block' : 'none';\n",
              "\n",
              "      async function convertToInteractive(key) {\n",
              "        const element = document.querySelector('#df-1eb7aa53-9f0c-40da-aa34-bcf0d8954338');\n",
              "        const dataTable =\n",
              "          await google.colab.kernel.invokeFunction('convertToInteractive',\n",
              "                                                    [key], {});\n",
              "        if (!dataTable) return;\n",
              "\n",
              "        const docLinkHtml = 'Like what you see? Visit the ' +\n",
              "          '<a target=\"_blank\" href=https://colab.research.google.com/notebooks/data_table.ipynb>data table notebook</a>'\n",
              "          + ' to learn more about interactive tables.';\n",
              "        element.innerHTML = '';\n",
              "        dataTable['output_type'] = 'display_data';\n",
              "        await google.colab.output.renderOutput(dataTable, element);\n",
              "        const docLink = document.createElement('div');\n",
              "        docLink.innerHTML = docLinkHtml;\n",
              "        element.appendChild(docLink);\n",
              "      }\n",
              "    </script>\n",
              "  </div>\n",
              "\n",
              "\n",
              "    <div id=\"df-740e45f3-08ca-4285-8ec2-ba03a11969eb\">\n",
              "      <button class=\"colab-df-quickchart\" onclick=\"quickchart('df-740e45f3-08ca-4285-8ec2-ba03a11969eb')\"\n",
              "                title=\"Suggest charts\"\n",
              "                style=\"display:none;\">\n",
              "\n",
              "<svg xmlns=\"http://www.w3.org/2000/svg\" height=\"24px\"viewBox=\"0 0 24 24\"\n",
              "     width=\"24px\">\n",
              "    <g>\n",
              "        <path d=\"M19 3H5c-1.1 0-2 .9-2 2v14c0 1.1.9 2 2 2h14c1.1 0 2-.9 2-2V5c0-1.1-.9-2-2-2zM9 17H7v-7h2v7zm4 0h-2V7h2v10zm4 0h-2v-4h2v4z\"/>\n",
              "    </g>\n",
              "</svg>\n",
              "      </button>\n",
              "\n",
              "<style>\n",
              "  .colab-df-quickchart {\n",
              "      --bg-color: #E8F0FE;\n",
              "      --fill-color: #1967D2;\n",
              "      --hover-bg-color: #E2EBFA;\n",
              "      --hover-fill-color: #174EA6;\n",
              "      --disabled-fill-color: #AAA;\n",
              "      --disabled-bg-color: #DDD;\n",
              "  }\n",
              "\n",
              "  [theme=dark] .colab-df-quickchart {\n",
              "      --bg-color: #3B4455;\n",
              "      --fill-color: #D2E3FC;\n",
              "      --hover-bg-color: #434B5C;\n",
              "      --hover-fill-color: #FFFFFF;\n",
              "      --disabled-bg-color: #3B4455;\n",
              "      --disabled-fill-color: #666;\n",
              "  }\n",
              "\n",
              "  .colab-df-quickchart {\n",
              "    background-color: var(--bg-color);\n",
              "    border: none;\n",
              "    border-radius: 50%;\n",
              "    cursor: pointer;\n",
              "    display: none;\n",
              "    fill: var(--fill-color);\n",
              "    height: 32px;\n",
              "    padding: 0;\n",
              "    width: 32px;\n",
              "  }\n",
              "\n",
              "  .colab-df-quickchart:hover {\n",
              "    background-color: var(--hover-bg-color);\n",
              "    box-shadow: 0 1px 2px rgba(60, 64, 67, 0.3), 0 1px 3px 1px rgba(60, 64, 67, 0.15);\n",
              "    fill: var(--button-hover-fill-color);\n",
              "  }\n",
              "\n",
              "  .colab-df-quickchart-complete:disabled,\n",
              "  .colab-df-quickchart-complete:disabled:hover {\n",
              "    background-color: var(--disabled-bg-color);\n",
              "    fill: var(--disabled-fill-color);\n",
              "    box-shadow: none;\n",
              "  }\n",
              "\n",
              "  .colab-df-spinner {\n",
              "    border: 2px solid var(--fill-color);\n",
              "    border-color: transparent;\n",
              "    border-bottom-color: var(--fill-color);\n",
              "    animation:\n",
              "      spin 1s steps(1) infinite;\n",
              "  }\n",
              "\n",
              "  @keyframes spin {\n",
              "    0% {\n",
              "      border-color: transparent;\n",
              "      border-bottom-color: var(--fill-color);\n",
              "      border-left-color: var(--fill-color);\n",
              "    }\n",
              "    20% {\n",
              "      border-color: transparent;\n",
              "      border-left-color: var(--fill-color);\n",
              "      border-top-color: var(--fill-color);\n",
              "    }\n",
              "    30% {\n",
              "      border-color: transparent;\n",
              "      border-left-color: var(--fill-color);\n",
              "      border-top-color: var(--fill-color);\n",
              "      border-right-color: var(--fill-color);\n",
              "    }\n",
              "    40% {\n",
              "      border-color: transparent;\n",
              "      border-right-color: var(--fill-color);\n",
              "      border-top-color: var(--fill-color);\n",
              "    }\n",
              "    60% {\n",
              "      border-color: transparent;\n",
              "      border-right-color: var(--fill-color);\n",
              "    }\n",
              "    80% {\n",
              "      border-color: transparent;\n",
              "      border-right-color: var(--fill-color);\n",
              "      border-bottom-color: var(--fill-color);\n",
              "    }\n",
              "    90% {\n",
              "      border-color: transparent;\n",
              "      border-bottom-color: var(--fill-color);\n",
              "    }\n",
              "  }\n",
              "</style>\n",
              "\n",
              "      <script>\n",
              "        async function quickchart(key) {\n",
              "          const quickchartButtonEl =\n",
              "            document.querySelector('#' + key + ' button');\n",
              "          quickchartButtonEl.disabled = true;  // To prevent multiple clicks.\n",
              "          quickchartButtonEl.classList.add('colab-df-spinner');\n",
              "          try {\n",
              "            const charts = await google.colab.kernel.invokeFunction(\n",
              "                'suggestCharts', [key], {});\n",
              "          } catch (error) {\n",
              "            console.error('Error during call to suggestCharts:', error);\n",
              "          }\n",
              "          quickchartButtonEl.classList.remove('colab-df-spinner');\n",
              "          quickchartButtonEl.classList.add('colab-df-quickchart-complete');\n",
              "        }\n",
              "        (() => {\n",
              "          let quickchartButtonEl =\n",
              "            document.querySelector('#df-740e45f3-08ca-4285-8ec2-ba03a11969eb button');\n",
              "          quickchartButtonEl.style.display =\n",
              "            google.colab.kernel.accessAllowed ? 'block' : 'none';\n",
              "        })();\n",
              "      </script>\n",
              "    </div>\n",
              "\n",
              "    </div>\n",
              "  </div>\n"
            ],
            "application/vnd.google.colaboratory.intrinsic+json": {
              "type": "dataframe",
              "variable_name": "X",
              "summary": "{\n  \"name\": \"X\",\n  \"rows\": 442,\n  \"fields\": [\n    {\n      \"column\": \"age\",\n      \"properties\": {\n        \"dtype\": \"number\",\n        \"std\": 0.0476190476190476,\n        \"min\": -0.1072256316073538,\n        \"max\": 0.11072667545381144,\n        \"num_unique_values\": 58,\n        \"samples\": [\n          0.038075906433423026,\n          -0.09269547780327612,\n          0.01991321417832592\n        ],\n        \"semantic_type\": \"\",\n        \"description\": \"\"\n      }\n    },\n    {\n      \"column\": \"sex\",\n      \"properties\": {\n        \"dtype\": \"number\",\n        \"std\": 0.0476190476190478,\n        \"min\": -0.044641636506989144,\n        \"max\": 0.05068011873981862,\n        \"num_unique_values\": 2,\n        \"samples\": [\n          -0.044641636506989144,\n          0.05068011873981862\n        ],\n        \"semantic_type\": \"\",\n        \"description\": \"\"\n      }\n    },\n    {\n      \"column\": \"bmi\",\n      \"properties\": {\n        \"dtype\": \"number\",\n        \"std\": 0.04761904761904761,\n        \"min\": -0.09027529589850945,\n        \"max\": 0.17055522598064407,\n        \"num_unique_values\": 163,\n        \"samples\": [\n          0.008883414898524095,\n          -0.05470749746044306\n        ],\n        \"semantic_type\": \"\",\n        \"description\": \"\"\n      }\n    },\n    {\n      \"column\": \"bp\",\n      \"properties\": {\n        \"dtype\": \"number\",\n        \"std\": 0.04761904761904762,\n        \"min\": -0.11239880254408448,\n        \"max\": 0.13204361674121307,\n        \"num_unique_values\": 100,\n        \"samples\": [\n          0.03333707926361473,\n          0.02531523648988596\n        ],\n        \"semantic_type\": \"\",\n        \"description\": \"\"\n      }\n    },\n    {\n      \"column\": \"s1\",\n      \"properties\": {\n        \"dtype\": \"number\",\n        \"std\": 0.047619047619047554,\n        \"min\": -0.12678066991651324,\n        \"max\": 0.15391371315651542,\n        \"num_unique_values\": 141,\n        \"samples\": [\n          0.041085578784023497,\n          0.08374011738825825\n        ],\n        \"semantic_type\": \"\",\n        \"description\": \"\"\n      }\n    },\n    {\n      \"column\": \"s2\",\n      \"properties\": {\n        \"dtype\": \"number\",\n        \"std\": 0.047619047619047644,\n        \"min\": -0.11561306597939897,\n        \"max\": 0.19878798965729408,\n        \"num_unique_values\": 302,\n        \"samples\": [\n          0.07415490186505921,\n          0.07008397186179521\n        ],\n        \"semantic_type\": \"\",\n        \"description\": \"\"\n      }\n    },\n    {\n      \"column\": \"s3\",\n      \"properties\": {\n        \"dtype\": \"number\",\n        \"std\": 0.04761904761904758,\n        \"min\": -0.10230705051741597,\n        \"max\": 0.18117906039727852,\n        \"num_unique_values\": 63,\n        \"samples\": [\n          0.09281975309919192,\n          0.15908923357275687\n        ],\n        \"semantic_type\": \"\",\n        \"description\": \"\"\n      }\n    },\n    {\n      \"column\": \"s4\",\n      \"properties\": {\n        \"dtype\": \"number\",\n        \"std\": 0.047619047619047554,\n        \"min\": -0.0763945037500033,\n        \"max\": 0.18523444326019867,\n        \"num_unique_values\": 66,\n        \"samples\": [\n          0.08670845052151895,\n          -0.024732934523729287\n        ],\n        \"semantic_type\": \"\",\n        \"description\": \"\"\n      }\n    },\n    {\n      \"column\": \"s5\",\n      \"properties\": {\n        \"dtype\": \"number\",\n        \"std\": 0.04761904761904763,\n        \"min\": -0.12609712083330468,\n        \"max\": 0.13359728192191356,\n        \"num_unique_values\": 184,\n        \"samples\": [\n          -0.07213275338232743,\n          -0.021395309255276825\n        ],\n        \"semantic_type\": \"\",\n        \"description\": \"\"\n      }\n    },\n    {\n      \"column\": \"s6\",\n      \"properties\": {\n        \"dtype\": \"number\",\n        \"std\": 0.04761904761904766,\n        \"min\": -0.13776722569000302,\n        \"max\": 0.13561183068907107,\n        \"num_unique_values\": 56,\n        \"samples\": [\n          -0.01764612515980379,\n          -0.09634615654165846\n        ],\n        \"semantic_type\": \"\",\n        \"description\": \"\"\n      }\n    }\n  ]\n}"
            }
          },
          "metadata": {},
          "execution_count": 1
        }
      ],
      "source": [
        "\n",
        "from sklearn.datasets import load_diabetes\n",
        "import pandas as pd\n",
        "\n",
        "# Load dataset\n",
        "data = load_diabetes(as_frame=True)\n",
        "X = data.data\n",
        "y = data.target\n",
        "\n",
        "print(f\"Shape: {X.shape}\")\n",
        "X.head()\n"
      ]
    },
    {
      "cell_type": "markdown",
      "source": [
        "**Feature descriptions**: Below is the feature descriptions for the diabetes dataset. Note that the data is already scaled."
      ],
      "metadata": {
        "id": "Hg9jbcU2vx8b"
      },
      "id": "Hg9jbcU2vx8b"
    },
    {
      "cell_type": "code",
      "source": [
        "feature_info = {\n",
        "    \"age\": \"Age (years)\",\n",
        "    \"sex\": \"Sex (1 = male, 2 = female)\",\n",
        "    \"bmi\": \"Body mass index (kg/m²)\",\n",
        "    \"bp\": \"Average blood pressure\",\n",
        "    \"s1\": \"TC – T-Cell count (cholesterol-related)\",\n",
        "    \"s2\": \"LDL – Low-Density Lipoproteins (bad cholesterol)\",\n",
        "    \"s3\": \"HDL – High-Density Lipoproteins (good cholesterol)\",\n",
        "    \"s4\": \"TCH – Total Cholesterol\",\n",
        "    \"s5\": \"LTG – Log of serum triglycerides level\",\n",
        "    \"s6\": \"GLU – Blood sugar level (glucose)\"\n",
        "}\n",
        "\n",
        "import pandas as pd\n",
        "pd.DataFrame(feature_info.items(), columns=[\"Feature\", \"Description\"])"
      ],
      "metadata": {
        "colab": {
          "base_uri": "https://localhost:8080/",
          "height": 359
        },
        "id": "3w-WseBcl-Zd",
        "outputId": "c4ba10f9-38df-441c-d375-209cb6ce09cc"
      },
      "id": "3w-WseBcl-Zd",
      "execution_count": 3,
      "outputs": [
        {
          "output_type": "execute_result",
          "data": {
            "text/plain": [
              "  Feature                                        Description\n",
              "0     age                                        Age (years)\n",
              "1     sex                         Sex (1 = male, 2 = female)\n",
              "2     bmi                            Body mass index (kg/m²)\n",
              "3      bp                             Average blood pressure\n",
              "4      s1            TC – T-Cell count (cholesterol-related)\n",
              "5      s2   LDL – Low-Density Lipoproteins (bad cholesterol)\n",
              "6      s3  HDL – High-Density Lipoproteins (good choleste...\n",
              "7      s4                            TCH – Total Cholesterol\n",
              "8      s5             LTG – Log of serum triglycerides level\n",
              "9      s6                  GLU – Blood sugar level (glucose)"
            ],
            "text/html": [
              "\n",
              "  <div id=\"df-6c117ff7-d04b-4d0b-b30d-4819a4ec36f1\" class=\"colab-df-container\">\n",
              "    <div>\n",
              "<style scoped>\n",
              "    .dataframe tbody tr th:only-of-type {\n",
              "        vertical-align: middle;\n",
              "    }\n",
              "\n",
              "    .dataframe tbody tr th {\n",
              "        vertical-align: top;\n",
              "    }\n",
              "\n",
              "    .dataframe thead th {\n",
              "        text-align: right;\n",
              "    }\n",
              "</style>\n",
              "<table border=\"1\" class=\"dataframe\">\n",
              "  <thead>\n",
              "    <tr style=\"text-align: right;\">\n",
              "      <th></th>\n",
              "      <th>Feature</th>\n",
              "      <th>Description</th>\n",
              "    </tr>\n",
              "  </thead>\n",
              "  <tbody>\n",
              "    <tr>\n",
              "      <th>0</th>\n",
              "      <td>age</td>\n",
              "      <td>Age (years)</td>\n",
              "    </tr>\n",
              "    <tr>\n",
              "      <th>1</th>\n",
              "      <td>sex</td>\n",
              "      <td>Sex (1 = male, 2 = female)</td>\n",
              "    </tr>\n",
              "    <tr>\n",
              "      <th>2</th>\n",
              "      <td>bmi</td>\n",
              "      <td>Body mass index (kg/m²)</td>\n",
              "    </tr>\n",
              "    <tr>\n",
              "      <th>3</th>\n",
              "      <td>bp</td>\n",
              "      <td>Average blood pressure</td>\n",
              "    </tr>\n",
              "    <tr>\n",
              "      <th>4</th>\n",
              "      <td>s1</td>\n",
              "      <td>TC – T-Cell count (cholesterol-related)</td>\n",
              "    </tr>\n",
              "    <tr>\n",
              "      <th>5</th>\n",
              "      <td>s2</td>\n",
              "      <td>LDL – Low-Density Lipoproteins (bad cholesterol)</td>\n",
              "    </tr>\n",
              "    <tr>\n",
              "      <th>6</th>\n",
              "      <td>s3</td>\n",
              "      <td>HDL – High-Density Lipoproteins (good choleste...</td>\n",
              "    </tr>\n",
              "    <tr>\n",
              "      <th>7</th>\n",
              "      <td>s4</td>\n",
              "      <td>TCH – Total Cholesterol</td>\n",
              "    </tr>\n",
              "    <tr>\n",
              "      <th>8</th>\n",
              "      <td>s5</td>\n",
              "      <td>LTG – Log of serum triglycerides level</td>\n",
              "    </tr>\n",
              "    <tr>\n",
              "      <th>9</th>\n",
              "      <td>s6</td>\n",
              "      <td>GLU – Blood sugar level (glucose)</td>\n",
              "    </tr>\n",
              "  </tbody>\n",
              "</table>\n",
              "</div>\n",
              "    <div class=\"colab-df-buttons\">\n",
              "\n",
              "  <div class=\"colab-df-container\">\n",
              "    <button class=\"colab-df-convert\" onclick=\"convertToInteractive('df-6c117ff7-d04b-4d0b-b30d-4819a4ec36f1')\"\n",
              "            title=\"Convert this dataframe to an interactive table.\"\n",
              "            style=\"display:none;\">\n",
              "\n",
              "  <svg xmlns=\"http://www.w3.org/2000/svg\" height=\"24px\" viewBox=\"0 -960 960 960\">\n",
              "    <path d=\"M120-120v-720h720v720H120Zm60-500h600v-160H180v160Zm220 220h160v-160H400v160Zm0 220h160v-160H400v160ZM180-400h160v-160H180v160Zm440 0h160v-160H620v160ZM180-180h160v-160H180v160Zm440 0h160v-160H620v160Z\"/>\n",
              "  </svg>\n",
              "    </button>\n",
              "\n",
              "  <style>\n",
              "    .colab-df-container {\n",
              "      display:flex;\n",
              "      gap: 12px;\n",
              "    }\n",
              "\n",
              "    .colab-df-convert {\n",
              "      background-color: #E8F0FE;\n",
              "      border: none;\n",
              "      border-radius: 50%;\n",
              "      cursor: pointer;\n",
              "      display: none;\n",
              "      fill: #1967D2;\n",
              "      height: 32px;\n",
              "      padding: 0 0 0 0;\n",
              "      width: 32px;\n",
              "    }\n",
              "\n",
              "    .colab-df-convert:hover {\n",
              "      background-color: #E2EBFA;\n",
              "      box-shadow: 0px 1px 2px rgba(60, 64, 67, 0.3), 0px 1px 3px 1px rgba(60, 64, 67, 0.15);\n",
              "      fill: #174EA6;\n",
              "    }\n",
              "\n",
              "    .colab-df-buttons div {\n",
              "      margin-bottom: 4px;\n",
              "    }\n",
              "\n",
              "    [theme=dark] .colab-df-convert {\n",
              "      background-color: #3B4455;\n",
              "      fill: #D2E3FC;\n",
              "    }\n",
              "\n",
              "    [theme=dark] .colab-df-convert:hover {\n",
              "      background-color: #434B5C;\n",
              "      box-shadow: 0px 1px 3px 1px rgba(0, 0, 0, 0.15);\n",
              "      filter: drop-shadow(0px 1px 2px rgba(0, 0, 0, 0.3));\n",
              "      fill: #FFFFFF;\n",
              "    }\n",
              "  </style>\n",
              "\n",
              "    <script>\n",
              "      const buttonEl =\n",
              "        document.querySelector('#df-6c117ff7-d04b-4d0b-b30d-4819a4ec36f1 button.colab-df-convert');\n",
              "      buttonEl.style.display =\n",
              "        google.colab.kernel.accessAllowed ? 'block' : 'none';\n",
              "\n",
              "      async function convertToInteractive(key) {\n",
              "        const element = document.querySelector('#df-6c117ff7-d04b-4d0b-b30d-4819a4ec36f1');\n",
              "        const dataTable =\n",
              "          await google.colab.kernel.invokeFunction('convertToInteractive',\n",
              "                                                    [key], {});\n",
              "        if (!dataTable) return;\n",
              "\n",
              "        const docLinkHtml = 'Like what you see? Visit the ' +\n",
              "          '<a target=\"_blank\" href=https://colab.research.google.com/notebooks/data_table.ipynb>data table notebook</a>'\n",
              "          + ' to learn more about interactive tables.';\n",
              "        element.innerHTML = '';\n",
              "        dataTable['output_type'] = 'display_data';\n",
              "        await google.colab.output.renderOutput(dataTable, element);\n",
              "        const docLink = document.createElement('div');\n",
              "        docLink.innerHTML = docLinkHtml;\n",
              "        element.appendChild(docLink);\n",
              "      }\n",
              "    </script>\n",
              "  </div>\n",
              "\n",
              "\n",
              "    <div id=\"df-7f2e2bbe-a8b7-4709-9006-6e5e60fe0911\">\n",
              "      <button class=\"colab-df-quickchart\" onclick=\"quickchart('df-7f2e2bbe-a8b7-4709-9006-6e5e60fe0911')\"\n",
              "                title=\"Suggest charts\"\n",
              "                style=\"display:none;\">\n",
              "\n",
              "<svg xmlns=\"http://www.w3.org/2000/svg\" height=\"24px\"viewBox=\"0 0 24 24\"\n",
              "     width=\"24px\">\n",
              "    <g>\n",
              "        <path d=\"M19 3H5c-1.1 0-2 .9-2 2v14c0 1.1.9 2 2 2h14c1.1 0 2-.9 2-2V5c0-1.1-.9-2-2-2zM9 17H7v-7h2v7zm4 0h-2V7h2v10zm4 0h-2v-4h2v4z\"/>\n",
              "    </g>\n",
              "</svg>\n",
              "      </button>\n",
              "\n",
              "<style>\n",
              "  .colab-df-quickchart {\n",
              "      --bg-color: #E8F0FE;\n",
              "      --fill-color: #1967D2;\n",
              "      --hover-bg-color: #E2EBFA;\n",
              "      --hover-fill-color: #174EA6;\n",
              "      --disabled-fill-color: #AAA;\n",
              "      --disabled-bg-color: #DDD;\n",
              "  }\n",
              "\n",
              "  [theme=dark] .colab-df-quickchart {\n",
              "      --bg-color: #3B4455;\n",
              "      --fill-color: #D2E3FC;\n",
              "      --hover-bg-color: #434B5C;\n",
              "      --hover-fill-color: #FFFFFF;\n",
              "      --disabled-bg-color: #3B4455;\n",
              "      --disabled-fill-color: #666;\n",
              "  }\n",
              "\n",
              "  .colab-df-quickchart {\n",
              "    background-color: var(--bg-color);\n",
              "    border: none;\n",
              "    border-radius: 50%;\n",
              "    cursor: pointer;\n",
              "    display: none;\n",
              "    fill: var(--fill-color);\n",
              "    height: 32px;\n",
              "    padding: 0;\n",
              "    width: 32px;\n",
              "  }\n",
              "\n",
              "  .colab-df-quickchart:hover {\n",
              "    background-color: var(--hover-bg-color);\n",
              "    box-shadow: 0 1px 2px rgba(60, 64, 67, 0.3), 0 1px 3px 1px rgba(60, 64, 67, 0.15);\n",
              "    fill: var(--button-hover-fill-color);\n",
              "  }\n",
              "\n",
              "  .colab-df-quickchart-complete:disabled,\n",
              "  .colab-df-quickchart-complete:disabled:hover {\n",
              "    background-color: var(--disabled-bg-color);\n",
              "    fill: var(--disabled-fill-color);\n",
              "    box-shadow: none;\n",
              "  }\n",
              "\n",
              "  .colab-df-spinner {\n",
              "    border: 2px solid var(--fill-color);\n",
              "    border-color: transparent;\n",
              "    border-bottom-color: var(--fill-color);\n",
              "    animation:\n",
              "      spin 1s steps(1) infinite;\n",
              "  }\n",
              "\n",
              "  @keyframes spin {\n",
              "    0% {\n",
              "      border-color: transparent;\n",
              "      border-bottom-color: var(--fill-color);\n",
              "      border-left-color: var(--fill-color);\n",
              "    }\n",
              "    20% {\n",
              "      border-color: transparent;\n",
              "      border-left-color: var(--fill-color);\n",
              "      border-top-color: var(--fill-color);\n",
              "    }\n",
              "    30% {\n",
              "      border-color: transparent;\n",
              "      border-left-color: var(--fill-color);\n",
              "      border-top-color: var(--fill-color);\n",
              "      border-right-color: var(--fill-color);\n",
              "    }\n",
              "    40% {\n",
              "      border-color: transparent;\n",
              "      border-right-color: var(--fill-color);\n",
              "      border-top-color: var(--fill-color);\n",
              "    }\n",
              "    60% {\n",
              "      border-color: transparent;\n",
              "      border-right-color: var(--fill-color);\n",
              "    }\n",
              "    80% {\n",
              "      border-color: transparent;\n",
              "      border-right-color: var(--fill-color);\n",
              "      border-bottom-color: var(--fill-color);\n",
              "    }\n",
              "    90% {\n",
              "      border-color: transparent;\n",
              "      border-bottom-color: var(--fill-color);\n",
              "    }\n",
              "  }\n",
              "</style>\n",
              "\n",
              "      <script>\n",
              "        async function quickchart(key) {\n",
              "          const quickchartButtonEl =\n",
              "            document.querySelector('#' + key + ' button');\n",
              "          quickchartButtonEl.disabled = true;  // To prevent multiple clicks.\n",
              "          quickchartButtonEl.classList.add('colab-df-spinner');\n",
              "          try {\n",
              "            const charts = await google.colab.kernel.invokeFunction(\n",
              "                'suggestCharts', [key], {});\n",
              "          } catch (error) {\n",
              "            console.error('Error during call to suggestCharts:', error);\n",
              "          }\n",
              "          quickchartButtonEl.classList.remove('colab-df-spinner');\n",
              "          quickchartButtonEl.classList.add('colab-df-quickchart-complete');\n",
              "        }\n",
              "        (() => {\n",
              "          let quickchartButtonEl =\n",
              "            document.querySelector('#df-7f2e2bbe-a8b7-4709-9006-6e5e60fe0911 button');\n",
              "          quickchartButtonEl.style.display =\n",
              "            google.colab.kernel.accessAllowed ? 'block' : 'none';\n",
              "        })();\n",
              "      </script>\n",
              "    </div>\n",
              "\n",
              "    </div>\n",
              "  </div>\n"
            ],
            "application/vnd.google.colaboratory.intrinsic+json": {
              "type": "dataframe",
              "summary": "{\n  \"name\": \"pd\",\n  \"rows\": 10,\n  \"fields\": [\n    {\n      \"column\": \"Feature\",\n      \"properties\": {\n        \"dtype\": \"string\",\n        \"num_unique_values\": 10,\n        \"samples\": [\n          \"s5\",\n          \"sex\",\n          \"s2\"\n        ],\n        \"semantic_type\": \"\",\n        \"description\": \"\"\n      }\n    },\n    {\n      \"column\": \"Description\",\n      \"properties\": {\n        \"dtype\": \"string\",\n        \"num_unique_values\": 10,\n        \"samples\": [\n          \"LTG \\u2013 Log of serum triglycerides level\",\n          \"Sex (1 = male, 2 = female)\",\n          \"LDL \\u2013 Low-Density Lipoproteins (bad cholesterol)\"\n        ],\n        \"semantic_type\": \"\",\n        \"description\": \"\"\n      }\n    }\n  ]\n}"
            }
          },
          "metadata": {},
          "execution_count": 3
        }
      ]
    },
    {
      "cell_type": "markdown",
      "source": [
        "# Section 1. Modeling with Original Features\n",
        "\n",
        "Now we are ready to begin the first set of experiments using the **original features** (without any interaction terms).\n",
        "\n",
        "Write the code for each empty section below. You may refer to examples from class or lab sessions as needed.\n",
        "\n",
        "You are also encouraged to use tools such as ChatGPT or other AI assistants to help you generate or debug your code, but make sure you understand the lines you include in your notebook."
      ],
      "metadata": {
        "id": "RIYD8AJGv4xq"
      },
      "id": "RIYD8AJGv4xq"
    },
    {
      "cell_type": "markdown",
      "id": "6dbd53a3",
      "metadata": {
        "id": "6dbd53a3"
      },
      "source": [
        "### Step 2: Split Data into Training and Test Sets\n",
        "\n",
        "Use ``test_size= 0.2`` and ``random_state=42``."
      ]
    },
    {
      "cell_type": "code",
      "execution_count": 4,
      "id": "d27c8624",
      "metadata": {
        "id": "d27c8624"
      },
      "outputs": [],
      "source": [
        "from sklearn.model_selection import train_test_split\n",
        "\n",
        "X_train, X_test, y_train, y_test = train_test_split(X, y, test_size=0.2, random_state=42)\n"
      ]
    },
    {
      "cell_type": "markdown",
      "id": "ea17a0a1",
      "metadata": {
        "id": "ea17a0a1"
      },
      "source": [
        "### Step 3: Standardize Features\n",
        "\n",
        "Even though, the original features are scaled, following best practice, use ``StandardScaler`` to scale the features."
      ]
    },
    {
      "cell_type": "code",
      "execution_count": 5,
      "id": "52545951",
      "metadata": {
        "id": "52545951"
      },
      "outputs": [],
      "source": [
        "from sklearn.preprocessing import StandardScaler\n",
        "\n",
        "scaler = StandardScaler()\n",
        "X_train_s = scaler.fit_transform(X_train)\n",
        "X_test_s = scaler.transform(X_test)\n"
      ]
    },
    {
      "cell_type": "markdown",
      "id": "2f37e3a6",
      "metadata": {
        "id": "2f37e3a6"
      },
      "source": [
        "### Step 4: Fit a Linear Regression Model\n",
        "\n",
        "Create an object named ``lr`` to fit a linear regression model. Report the **R² score on the test set**."
      ]
    },
    {
      "cell_type": "code",
      "execution_count": 6,
      "id": "c6f3fcf2",
      "metadata": {
        "colab": {
          "base_uri": "https://localhost:8080/"
        },
        "id": "c6f3fcf2",
        "outputId": "15b2d153-26d0-465b-c573-195354286bf6"
      },
      "outputs": [
        {
          "output_type": "stream",
          "name": "stdout",
          "text": [
            "R² (Linear Regression): 0.453\n"
          ]
        }
      ],
      "source": [
        "from sklearn.linear_model import LinearRegression\n",
        "from sklearn.metrics import r2_score\n",
        "\n",
        "lr = LinearRegression().fit(X_train_s, y_train)\n",
        "r2_lr = r2_score(y_test, lr.predict(X_test_s))\n",
        "print(f\"R² (Linear Regression): {r2_lr:.3f}\")\n"
      ]
    },
    {
      "cell_type": "markdown",
      "id": "bd05afbc",
      "metadata": {
        "id": "bd05afbc"
      },
      "source": [
        "### Step 5: Ridge Regression with Cross-Validation\n",
        "\n",
        "Create an object named ``ridge`` to fit a 5-fold cross-validated Ridge regression model using ``alphas = [0.01, 0.1, 1, 10, 100]``. Report the **R² score** on the test set, and **the best alpha value**."
      ]
    },
    {
      "cell_type": "code",
      "execution_count": 7,
      "id": "5acd1753",
      "metadata": {
        "colab": {
          "base_uri": "https://localhost:8080/"
        },
        "id": "5acd1753",
        "outputId": "cd41f6c4-b866-410c-de15-53f485111cb3"
      },
      "outputs": [
        {
          "output_type": "stream",
          "name": "stdout",
          "text": [
            "R² (Ridge): 0.457, Best alpha: 10.0\n"
          ]
        }
      ],
      "source": [
        "from sklearn.linear_model import RidgeCV\n",
        "\n",
        "ridge = RidgeCV(alphas=[0.01, 0.1, 1, 10, 100], cv=5)\n",
        "ridge.fit(X_train_s, y_train)\n",
        "r2_ridge = r2_score(y_test, ridge.predict(X_test_s))\n",
        "print(f\"R² (Ridge): {r2_ridge:.3f}, Best alpha: {ridge.alpha_}\")\n"
      ]
    },
    {
      "cell_type": "markdown",
      "id": "5f757e1a",
      "metadata": {
        "id": "5f757e1a"
      },
      "source": [
        "### Step 6: Lasso Regression with Cross-Validation\n",
        "\n",
        "Create an object named ``lasso`` to fit a 5-fold cross-validated Lasso regression model using ``alphas = [0.001, 0.01, 0.1, 1, 10]`` and ``max_iter=10000``. Report the **R² score** on the test set, the **best alpha value**, and the **number of non-zero coefficients**."
      ]
    },
    {
      "cell_type": "code",
      "execution_count": 8,
      "id": "6d313d33",
      "metadata": {
        "colab": {
          "base_uri": "https://localhost:8080/"
        },
        "id": "6d313d33",
        "outputId": "c974f21a-44ed-45d4-ac6a-96b101f26fb0"
      },
      "outputs": [
        {
          "output_type": "stream",
          "name": "stdout",
          "text": [
            "R² (Lasso): 0.467, Best alpha: 1.0\n",
            "Non-zero coefficients: 9 out of 10\n"
          ]
        }
      ],
      "source": [
        "from sklearn.linear_model import LassoCV\n",
        "\n",
        "lasso = LassoCV(alphas=[0.001, 0.01, 0.1, 1, 10], cv=5, max_iter=10000)\n",
        "lasso.fit(X_train_s, y_train)\n",
        "r2_lasso = r2_score(y_test, lasso.predict(X_test_s))\n",
        "\n",
        "print(f\"R² (Lasso): {r2_lasso:.3f}, Best alpha: {lasso.alpha_}\")\n",
        "print(f\"Non-zero coefficients: {(lasso.coef_ != 0).sum()} out of {len(lasso.coef_)}\")\n"
      ]
    },
    {
      "cell_type": "markdown",
      "source": [
        "### Step 7: Lasso Regression with a Fixed Penalty\n",
        "\n",
        "As discussed in class and during the lab session, the **best alpha** selected through cross-validation for Lasso is chosen to **maximize predictive performance**, NOT necessarily to improve **model interpretability**.\n",
        "\n",
        "In this section, write code to fit a **Lasso regression** model with a larger, fixed value of ``alpha = 5`` (without cross-validation). Name the object ``lasso_c``; report the **R² score** on the test set and the **number of non-zero coefficients**."
      ],
      "metadata": {
        "id": "ELf8WiEj1qAZ"
      },
      "id": "ELf8WiEj1qAZ"
    },
    {
      "cell_type": "code",
      "execution_count": 9,
      "metadata": {
        "colab": {
          "base_uri": "https://localhost:8080/"
        },
        "outputId": "00d10cde-95f0-4a48-93e8-440593159389",
        "id": "bS6rmNBvildm"
      },
      "outputs": [
        {
          "output_type": "stream",
          "name": "stdout",
          "text": [
            "R² (Lasso): 0.465\n",
            "Non-zero coefficients: 5 out of 10\n"
          ]
        }
      ],
      "source": [
        "from sklearn.linear_model import Lasso\n",
        "\n",
        "lasso_c = Lasso(alpha=5)\n",
        "lasso_c.fit(X_train_s, y_train)\n",
        "r2_lasso_c = r2_score(y_test, lasso_c.predict(X_test_s))\n",
        "\n",
        "print(f\"R² (Lasso): {r2_lasso_c:.3f}\")\n",
        "print(f\"Non-zero coefficients: {(lasso_c.coef_ != 0).sum()} out of {len(lasso_c.coef_)}\")\n"
      ],
      "id": "bS6rmNBvildm"
    },
    {
      "cell_type": "markdown",
      "source": [
        "### Step 8: Identifying the Important Features\n",
        "\n",
        "Next we want to create a plot to help us visualize which predictors remain active in the model and whether they have a positive or negative association with the target.\n",
        "\n",
        "Create a horizontal bar chart showing the non-zero Lasso coefficients for ``alpha = 5``.\n",
        "\n",
        "* Display the feature names on the y-axis and their coefficient values on the x-axis.\n",
        "* Sort the features by the absolute value of their coefficients (from largest to smallest) for easier interpretation.\n",
        "\n",
        "You may refer to the notebook in our regularization class (or get help from ChatGPT or an AI tool) to create this plot.\n"
      ],
      "metadata": {
        "id": "BCWoLZ5k3cC1"
      },
      "id": "BCWoLZ5k3cC1"
    },
    {
      "cell_type": "code",
      "source": [
        "# Visualizing Non-Zero Lasso Coefficients (alpha = 5)\n",
        "\n",
        "import pandas as pd\n",
        "import matplotlib.pyplot as plt\n",
        "\n",
        "# Create a DataFrame of feature names and their coefficients\n",
        "coef_df = pd.DataFrame({\n",
        "    'Feature': X.columns,\n",
        "    'Coefficient': lasso_c.coef_\n",
        "})\n",
        "\n",
        "# Filter out zero coefficients\n",
        "nonzero_df = coef_df[coef_df['Coefficient'] != 0]\n",
        "\n",
        "# Sort by absolute value for clearer visualization\n",
        "nonzero_df = nonzero_df.reindex(nonzero_df['Coefficient'].abs().sort_values(ascending=True).index)\n",
        "\n",
        "# Plot\n",
        "plt.figure(figsize=(8,5))\n",
        "plt.barh(nonzero_df['Feature'], nonzero_df['Coefficient'], color='steelblue')\n",
        "plt.xlabel('Coefficient Value')\n",
        "plt.ylabel('Feature')\n",
        "plt.title('Non-zero Lasso Coefficients (alpha = 5)')\n",
        "plt.axvline(0, color='black', linewidth=1)\n",
        "plt.tight_layout()\n",
        "plt.show()"
      ],
      "metadata": {
        "colab": {
          "base_uri": "https://localhost:8080/",
          "height": 507
        },
        "id": "fpEWiJTelTdL",
        "outputId": "825a2876-6201-4288-dbd9-424d6a54a255"
      },
      "id": "fpEWiJTelTdL",
      "execution_count": 10,
      "outputs": [
        {
          "output_type": "display_data",
          "data": {
            "text/plain": [
              "<Figure size 800x500 with 1 Axes>"
            ],
            "image/png": "[encoded data removed]"
          },
          "metadata": {}
        }
      ]
    },
    {
      "cell_type": "markdown",
      "id": "9e4821a8",
      "metadata": {
        "id": "9e4821a8"
      },
      "source": [
        "### Step 9: Reflection on Experiment 1\n",
        "\n",
        "Answer the following questions:\n",
        "\n",
        "1. Which model gives the highest R² on the test set?  \n",
        "2. How do Ridge and Lasso coefficients compare to Linear Regression?  \n",
        "3. How does increasing `alpha` affect model complexity for Lasso?  \n",
        "4. Interpret the top 5 factors identified by Lasso regression."
      ]
    },
    {
      "cell_type": "markdown",
      "source": [
        "# Section 2. Modeling with Original and Interaction Features\n",
        "\n",
        "In this section, you will **expand the feature space** by creating **second-degree interaction features**."
      ],
      "metadata": {
        "id": "7I_3NWpU5ppk"
      },
      "id": "7I_3NWpU5ppk"
    },
    {
      "cell_type": "markdown",
      "metadata": {
        "id": "44b29695"
      },
      "source": [
        "### Step 10: Generate Polynomial Features\n",
        "\n",
        "Use the ``PolynomialFeatures`` class from ``sklearn.preprocessing`` with the argument ``interaction_only=True`` to generate **only interaction terms** (no squared terms).\n",
        "\n",
        "Name the new variables ``X_train_poly`` and ``X_test_poly``."
      ],
      "id": "44b29695"
    },
    {
      "cell_type": "code",
      "execution_count": 11,
      "metadata": {
        "colab": {
          "base_uri": "https://localhost:8080/"
        },
        "id": "740c7cee",
        "outputId": "e76192e1-6ac7-44fb-cb02-0375e04caf89"
      },
      "outputs": [
        {
          "output_type": "stream",
          "name": "stdout",
          "text": [
            "Feature space expanded from 10 to 55 features.\n"
          ]
        }
      ],
      "source": [
        "from sklearn.preprocessing import PolynomialFeatures\n",
        "\n",
        "pf = PolynomialFeatures(degree=2, interaction_only=True, include_bias=False)\n",
        "X_train_poly = pf.fit_transform(X_train)\n",
        "X_test_poly = pf.transform(X_test)\n",
        "\n",
        "print(f\"Feature space expanded from {X_train.shape[1]} to {X_train_poly.shape[1]} features.\")\n"
      ],
      "id": "740c7cee"
    },
    {
      "cell_type": "markdown",
      "metadata": {
        "id": "d59e8be7"
      },
      "source": [
        "### Step 11: Standardize the New Expanded Feature Space\n",
        "\n",
        "Name the new variables ``X_train_poly_s`` and ``X_test_poly_s``."
      ],
      "id": "d59e8be7"
    },
    {
      "cell_type": "code",
      "execution_count": 12,
      "metadata": {
        "id": "e765ff3e"
      },
      "outputs": [],
      "source": [
        "from sklearn.preprocessing import StandardScaler\n",
        "\n",
        "scaler = StandardScaler()\n",
        "X_train_poly_s = scaler.fit_transform(X_train_poly)\n",
        "X_test_poly_s = scaler.transform(X_test_poly)\n"
      ],
      "id": "e765ff3e"
    },
    {
      "cell_type": "markdown",
      "metadata": {
        "id": "c5764de9"
      },
      "source": [
        "### Step 12: Linear Regression Baseline (Polynomial Features)\n",
        "\n",
        "Create an object named ``lr_poly`` to fit a linear regression model with the expanded feature space. Report the **R² score on the test set**."
      ],
      "id": "c5764de9"
    },
    {
      "cell_type": "code",
      "execution_count": 18,
      "metadata": {
        "colab": {
          "base_uri": "https://localhost:8080/"
        },
        "id": "6e322366",
        "outputId": "ab9d7a2f-69d4-4b62-f3b0-2292221b4635"
      },
      "outputs": [
        {
          "output_type": "stream",
          "name": "stdout",
          "text": [
            "R² (Linear Regression with Polynomial Features): 0.478\n"
          ]
        }
      ],
      "source": [
        "from sklearn.linear_model import LinearRegression\n",
        "from sklearn.metrics import r2_score\n",
        "\n",
        "lr_poly = LinearRegression().fit(X_train_poly_s, y_train)\n",
        "r2_lr_poly = r2_score(y_test, lr_poly.predict(X_test_poly_s))\n",
        "print(f\"R² (Linear Regression with Polynomial Features): {r2_lr_poly:.3f}\")\n"
      ],
      "id": "6e322366"
    },
    {
      "cell_type": "markdown",
      "metadata": {
        "id": "6c353855"
      },
      "source": [
        "### Step 13: Ridge Regression with Cross-Validation\n",
        "\n",
        "Create an object named ``ridge_poly`` to fit a 5-fold cross-validated Ridge regression model using ``alphas = [0.01, 0.1, 1, 10, 100]`` with the expanded feature space. Report the **R² score** on the test set, and **the best alpha value**."
      ],
      "id": "6c353855"
    },
    {
      "cell_type": "code",
      "execution_count": 19,
      "metadata": {
        "colab": {
          "base_uri": "https://localhost:8080/"
        },
        "id": "5e05a77b",
        "outputId": "7bbf64bf-bbd4-4250-f687-1281aa8f532f"
      },
      "outputs": [
        {
          "output_type": "stream",
          "name": "stdout",
          "text": [
            "R² (Ridge + Polynomial): 0.500, Best alpha: 100.0\n"
          ]
        }
      ],
      "source": [
        "from sklearn.linear_model import RidgeCV\n",
        "\n",
        "ridge_poly = RidgeCV(alphas=[0.01, 0.1, 1, 10, 100])\n",
        "ridge_poly.fit(X_train_poly_s, y_train)\n",
        "r2_ridge_poly = r2_score(y_test, ridge_poly.predict(X_test_poly_s))\n",
        "print(f\"R² (Ridge + Polynomial): {r2_ridge_poly:.3f}, Best alpha: {ridge_poly.alpha_}\")\n"
      ],
      "id": "5e05a77b"
    },
    {
      "cell_type": "markdown",
      "metadata": {
        "id": "a9b6c868"
      },
      "source": [
        "### Step 14: Lasso Regression with Cross-Validation\n",
        "\n",
        "Create an object named ``lasso_poly`` to fit a 5-fold cross-validated Lasso regression model using ``alphas = [0.001, 0.01, 0.05, 0.1, 0.5, 1]`` and ``max_iter=500000``. Report the **R² score** on the test set, the **best alpha value**, and the **number of non-zero coefficients**. Note that, compared to Lasso CV with the original feature space, we have increased ``max_iter`` argument to ensure algorithm convergence; you can try a smaller value to see the warning message."
      ],
      "id": "a9b6c868"
    },
    {
      "cell_type": "code",
      "execution_count": 20,
      "metadata": {
        "colab": {
          "base_uri": "https://localhost:8080/"
        },
        "id": "ed5ad61b",
        "outputId": "46d83df6-e419-49b4-d529-e4f8138bc8c3"
      },
      "outputs": [
        {
          "output_type": "stream",
          "name": "stdout",
          "text": [
            "R² (Lasso + Polynomial): 0.514, Best alpha: 1.0\n",
            "Non-zero coefficients: 32 out of 55\n"
          ]
        }
      ],
      "source": [
        "from sklearn.linear_model import LassoCV\n",
        "\n",
        "lasso_poly = LassoCV(alphas=[0.001, 0.01, 0.05, 0.1, 0.5, 1], max_iter=500000)\n",
        "lasso_poly.fit(X_train_poly_s, y_train)\n",
        "r2_lasso_poly = r2_score(y_test, lasso_poly.predict(X_test_poly_s))\n",
        "\n",
        "print(f\"R² (Lasso + Polynomial): {r2_lasso_poly:.3f}, Best alpha: {lasso_poly.alpha_}\")\n",
        "print(f\"Non-zero coefficients: {(lasso_poly.coef_ != 0).sum()} out of {len(lasso_poly.coef_)}\")\n"
      ],
      "id": "ed5ad61b"
    },
    {
      "cell_type": "markdown",
      "source": [
        "### Step 15: Lasso Regression with a Fixed Penalty\n",
        "\n",
        "Similar to Step 7, we can improve **model interpretability** by increasing alpha without a significant drop in predictive performance. Write code to fit a **Lasso regression** model with a larger, fixed value of ``alpha = 5`` (without cross-validation). Name the object ``lasso_poly_c``, and report the **R² score** on the test set and the **number of non-zero coefficients**."
      ],
      "metadata": {
        "id": "XNM3hIH1WFE9"
      },
      "id": "XNM3hIH1WFE9"
    },
    {
      "cell_type": "code",
      "execution_count": 22,
      "metadata": {
        "colab": {
          "base_uri": "https://localhost:8080/"
        },
        "outputId": "9a8e6da5-cef7-4724-a354-3b481a786b55",
        "id": "FlNYgLUDnvVo"
      },
      "outputs": [
        {
          "output_type": "stream",
          "name": "stdout",
          "text": [
            "R² (Lasso + Polynomial): 0.490\n",
            "Non-zero coefficients: 9 out of 55\n"
          ]
        }
      ],
      "source": [
        "\n",
        "from sklearn.linear_model import Lasso\n",
        "\n",
        "lasso_poly_c = Lasso(alpha=5, max_iter=500000)\n",
        "lasso_poly_c.fit(X_train_poly_s, y_train)\n",
        "r2_lasso_poly_c = r2_score(y_test, lasso_poly_c.predict(X_test_poly_s))\n",
        "\n",
        "print(f\"R² (Lasso + Polynomial): {r2_lasso_poly_c:.3f}\")\n",
        "print(f\"Non-zero coefficients: {(lasso_poly_c.coef_ != 0).sum()} out of {len(lasso_poly_c.coef_)}\")\n"
      ],
      "id": "FlNYgLUDnvVo"
    },
    {
      "cell_type": "markdown",
      "source": [
        "### Step 16: Identifying the Important Features\n",
        "\n",
        "Again we want to create a plot to help us visualize which predictors remain active in the model and whether they have a positive or negative association with the target. Create a horizontal bar chart showing the non-zero Lasso coefficients for ``alpha = 5``. Follow the instructions in Step 8 for guidance.\n",
        "\n",
        "**Hint**: the top 5 features should be identical to plot from Step 8."
      ],
      "metadata": {
        "id": "9dkIjuPYXEmf"
      },
      "id": "9dkIjuPYXEmf"
    },
    {
      "cell_type": "code",
      "source": [
        "import pandas as pd\n",
        "import matplotlib.pyplot as plt\n",
        "\n",
        "# Create a DataFrame of feature names and their coefficients\n",
        "# Get feature names after polynomial expansion\n",
        "feature_names = pf.get_feature_names_out(X_train.columns)\n",
        "\n",
        "coef_df = pd.DataFrame({\n",
        "    'Feature': feature_names,\n",
        "    'Coefficient': lasso_poly_c.coef_\n",
        "})\n",
        "\n",
        "# Filter out zero coefficients\n",
        "nonzero_df = coef_df[coef_df['Coefficient'] != 0]\n",
        "\n",
        "# Sort by absolute value for clearer visualization\n",
        "nonzero_df = nonzero_df.reindex(nonzero_df['Coefficient'].abs().sort_values(ascending=True).index)\n",
        "\n",
        "# Plot\n",
        "plt.figure(figsize=(8,5))\n",
        "plt.barh(nonzero_df['Feature'], nonzero_df['Coefficient'], color='steelblue')\n",
        "plt.xlabel('Coefficient Value')\n",
        "plt.ylabel('Feature')\n",
        "plt.title('Non-zero Lasso Coefficients (alpha = 5)')\n",
        "plt.axvline(0, color='black', linewidth=1)\n",
        "plt.tight_layout()\n",
        "plt.show()"
      ],
      "metadata": {
        "colab": {
          "base_uri": "https://localhost:8080/",
          "height": 507
        },
        "id": "jWw4H8j7ohoi",
        "outputId": "ab40d4b1-4eb8-4ba7-85d0-925ce8c953a5"
      },
      "execution_count": 23,
      "outputs": [
        {
          "output_type": "display_data",
          "data": {
            "text/plain": [
              "<Figure size 800x500 with 1 Axes>"
            ],
            "image/png": "[encoded data removed]"
          },
          "metadata": {}
        }
      ],
      "id": "jWw4H8j7ohoi"
    },
    {
      "cell_type": "markdown",
      "source": [
        "# Section 3. Conclusion\n",
        "\n",
        "Given everything you have explored in this exercise (and what we discussed in the course) about **regularization, interaction terms, overfitting**, and **model generalizability**, what is your perspective on the **bias–variance trade-off** and the **interpretability trade-off** for this dataset?\n",
        "\n",
        "Take a moment to reflect and collect your thoughts before revealing my answer below."
      ],
      "metadata": {
        "id": "Nw8k-kHiYkhf"
      },
      "id": "Nw8k-kHiYkhf"
    },
    {
      "cell_type": "markdown",
      "source": [
        "<details>\n",
        "<summary>Click to reveal my answer</summary>\n",
        "\n",
        "**Conclusion (my version)**\n",
        "\n",
        "Across both experiments, **regularization consistently improves model performance**, confirming its role in **reducing variance** and **enhancing generalization**.\n",
        "\n",
        "When we extend the feature space to include **interaction terms**, we observe a modest additional improvement in test-set R², indicating that these nonlinear interactions capture a small portion of residual structure that the purely linear model could not explain.\n",
        "\n",
        "However, as seen from both the performance metrics and the most influential predictors identified by Lasso (α = 5), the qualitative story remains the same: the model’s insights and key drivers of diabetes progression are largely unchanged.\n",
        "\n",
        "This suggests that, for this dataset, the relationships between predictors and the target are **predominantly linear and additive**, and the marginal gains from including polynomial interactions may not justify the added complexity or overfitting risk for future data.\n",
        "\n",
        "In practice, this highlights an important modeling principle:\n",
        "\n",
        "<u>**Regularization helps control variance, while model expansion helps reduce bias; but the goal is not maximum complexity, it’s meaningful simplicity**.<u>"
      ],
      "metadata": {
        "id": "djBMzKhIXns5"
      },
      "id": "djBMzKhIXns5"
    }
  ],
  "metadata": {
    "colab": {
      "provenance": []
    },
    "language_info": {
      "name": "python"
    },
    "kernelspec": {
      "name": "python3",
      "display_name": "Python 3"
    }
  },
  "nbformat": 4,
  "nbformat_minor": 5
}