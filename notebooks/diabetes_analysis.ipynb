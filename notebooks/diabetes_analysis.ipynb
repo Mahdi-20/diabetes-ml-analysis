{
 "cells": [
  {
   "cell_type": "markdown",
   "id": "6d0febc2",
   "metadata": {},
   "source": [
    "# Ridge and Lasso Regression Assignment (Diabetes Dataset)"
   ]
  },
  {
   "cell_type": "markdown",
   "id": "aa9e9572",
   "metadata": {},
   "source": [
    "In this exercise, you will use the **Diabetes dataset** (built into scikit-learn) to explore how **Ridge** and **Lasso regression** handle correlated predictors and the effects of regularization. You will compare them to a standard **Linear Regression** model, visualize their coefficients, and interpret how regularization influences **model complexity** and **performance**.\n",
    "\n",
    "You will also examine the role of **interaction features**, exploring how they can add flexibility to the model and help reduce bias.\n",
    "\n",
    "We will conduct two sets of experiments:\n",
    "1. Using only the original features, and\n",
    "2. Using the original features plus interaction terms.\n",
    "\n",
    "### Learning Objectives\n",
    "By the end of this exercise, you will be able to:\n",
    "\n",
    "- Apply **Ridge** and **Lasso regression** to control model complexity and prevent overfitting.  \n",
    "- Use **cross-validation** to select the optimal level of regularization (`alpha`).  \n",
    "- Interpret how regularization affects **coefficient magnitude**, **sparsity**, and **model interpretability**.  \n",
    "- Evaluate how adding **interaction features** changes model bias, variance, and predictive performance."
   ]
  },
  {
   "cell_type": "markdown",
   "id": "156ee3da",
   "metadata": {},
   "source": [
    "Step 1: Load & Understand the Diabetes Dataset\n",
    "\n",
    "Let’s start by loading the dataset and reviewing the feature space. The code for this section is provided; you will write your own code for the remainder of this assignment."
   ]
  },
  {
   "cell_type": "code",
   "execution_count": null,
   "id": "4632cfbf",
   "metadata": {
    "vscode": {
     "languageId": "plaintext"
    }
   },
   "outputs": [],
   "source": [
    "from sklearn.datasets import load_diabetes\n",
    "import pandas as pd\n",
    "\n",
    "# Load dataset\n",
    "data = load_diabetes(as_frame=True)\n",
    "X = data.data\n",
    "y = data.target\n",
    "\n",
    "print(f\"Shape: {X.shape}\")\n",
    "X.head()\n"
   ]
  }
 ],
 "metadata": {
  "language_info": {
   "name": "python"
  }
 },
 "nbformat": 4,
 "nbformat_minor": 5
}
